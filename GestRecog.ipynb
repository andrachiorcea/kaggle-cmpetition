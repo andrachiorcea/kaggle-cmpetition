{
 "cells": [
  {
   "cell_type": "code",
   "execution_count": 236,
   "metadata": {},
   "outputs": [],
   "source": [
    "import pandas as pd\n",
    "import numpy as np\n",
    "import matplotlib.pyplot as plt\n",
    "from sklearn.model_selection import train_test_split\n",
    "from scipy import misc\n",
    "import os\n",
    "import csv"
   ]
  },
  {
   "cell_type": "code",
   "execution_count": 43,
   "metadata": {},
   "outputs": [],
   "source": [
    "import load_and_display_data as ld"
   ]
  },
  {
   "cell_type": "code",
   "execution_count": null,
   "metadata": {},
   "outputs": [],
   "source": [
    "def read_csv_infostest(file):\n",
    "    idx,sizesequences = [],[]\n",
    "    with open(file, 'r') as f:\n",
    "        data = csv.reader(f, delimiter=' ')\n",
    "        for d in data:\n",
    "            j = d[0].split(',')\n",
    "            idx.append(int(j[0]))\n",
    "            sizesequences.append(int(j[1]))\n",
    "    return idx, sizesequences"
   ]
  },
  {
   "cell_type": "code",
   "execution_count": 181,
   "metadata": {},
   "outputs": [],
   "source": [
    "train_2 = ld.read_csv_skeleton(\"skeletons_world_train.csv\", 3)\n",
    "test_2 = ld.read_csv_skeleton(\"skeletons_world_test.csv\", 3)\n",
    "\n",
    "info_train= ld.read_csv_infos(\"infos_train.csv\")\n",
    "info_test=read_csv_infostest(\"infos_test.csv\")"
   ]
  },
  {
   "cell_type": "code",
   "execution_count": 182,
   "metadata": {},
   "outputs": [],
   "source": [
    "def unpadd(data,infos_data):\n",
    "    seq_length=infos_data[-1]\n",
    "    idx=infos_data[0]\n",
    "    unpadd_data=[]\n",
    "    \n",
    "    for i in idx:\n",
    "        unpadd_data.append(data[i][:seq_length[i]])\n",
    "    \n",
    "    return np.array(unpadd_data)"
   ]
  },
  {
   "cell_type": "code",
   "execution_count": 183,
   "metadata": {},
   "outputs": [],
   "source": [
    "train_2=unpadd(train_2,info_train)"
   ]
  },
  {
   "cell_type": "code",
   "execution_count": 233,
   "metadata": {},
   "outputs": [],
   "source": [
    "def interpolate(data, npts):\n",
    "    interp_data=[]\n",
    "    for i in range(len(data)):\n",
    "        seq=[]\n",
    "        for j in range(22):\n",
    "            pts=[]\n",
    "            for k in range(3):\n",
    "                x=data[i][:,j,k]\n",
    "                pts.append(np.interp(np.linspace(0,len(x),npts), np.arange(len(x)), x))\n",
    "            seq.append(pts)\n",
    "        interp_data.append(seq)    \n",
    "        \n",
    "    return np.transpose(interp_data, (0, 3, 1, 2))"
   ]
  },
  {
   "cell_type": "code",
   "execution_count": 240,
   "metadata": {},
   "outputs": [],
   "source": [
    "train_2=interpolate(train_2,50)\n",
    "\n",
    "reshaped_training = train_2.reshape(1960, 22*3*50)\n",
    "# reshaped_test = np.hstack((array_test_2.reshape(840, 22*2*162),np.zeros((840,396))))\n",
    "\n",
    "labels_train=info_train[1]\n",
    "\n",
    "X_train, X_test, y_train, y_test = train_test_split(reshaped_training, labels_train, test_size=0.33, random_state=42)"
   ]
  },
  {
   "cell_type": "code",
   "execution_count": 242,
   "metadata": {},
   "outputs": [
    {
     "data": {
      "text/plain": [
       "0.02627511591962906"
      ]
     },
     "execution_count": 242,
     "metadata": {},
     "output_type": "execute_result"
    }
   ],
   "source": [
    "\n",
    "from sklearn.svm import SVC\n",
    "# nsamples, nx, ny, nz = array_train_2.shape\n",
    "# d3_train_dataset = array_train_2.reshape((nsamples,nx*ny*nz))\n",
    "# print(d3_train_dataset)\n",
    "# nsamples, nx, ny = d3_train_dataset.shape\n",
    "# d2_train_dataset = d3_train_dataset.reshape((nsamples,nx*ny))\n",
    "clf = SVC(gamma='auto')\n",
    "clf.fit(X_train, y_train)\n",
    "predicted = clf.predict(X_test)\n",
    "\n",
    "clf.score(X_test,y_test)"
   ]
  }
 ],
 "metadata": {
  "kernelspec": {
   "display_name": "Python 3",
   "language": "python",
   "name": "python3"
  },
  "language_info": {
   "codemirror_mode": {
    "name": "ipython",
    "version": 3
   },
   "file_extension": ".py",
   "mimetype": "text/x-python",
   "name": "python",
   "nbconvert_exporter": "python",
   "pygments_lexer": "ipython3",
   "version": "3.7.3"
  }
 },
 "nbformat": 4,
 "nbformat_minor": 4
}
